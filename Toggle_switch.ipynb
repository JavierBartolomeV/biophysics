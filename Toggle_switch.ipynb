{
 "cells": [
  {
   "cell_type": "markdown",
   "metadata": {},
   "source": [
    "# The Toggle switch\n",
    "\n",
    "The genetic toggle switch `(Gardner et al. Nature 403, 339‐342 (2000))` is a synthetic gene regulatory network implemented in E. coli. it is able to show bistability between an ON and OFF states in the trascription of two genes that mutually repress each other trascription. \n",
    "\n",
    "The significance of bistability in this system is that that a switch can be constructed with the two steady states forming the ON and OFF states of the switch. Once prepared in a state the system remains there for long periods of time. By adding small molecules known as inducers, or by applying heat, the authors were able to alter the system such that it switched between the ON and OFF states. This system demonstrates the basis for cellular memory and has since been used to form synthetic biological devices that can 'remember' an event in the past."
   ]
  },
  {
   "cell_type": "markdown",
   "metadata": {},
   "source": [
    "Figure 1.5.1 shows the genetic regulatory network that comprises this system. The symbol $\\rightarrow$ indicates activating interactions and $\\dashv$ represents repressive or inhibitory interactions. The system is formed from two repressor proteins. Repressor 1 inhibits transcription of Repressor 2 by binding to promoter 1. Repressor 2, inhibits transcription of Repressor 1 by binding to promoter 2. The mutually repressing processes are what gives rise to the bistable behaviour of the system; either Repressor 1 wins and we have only these proteins present in the system or Repressor 2 wins and we have only these proteins present. This are the two observable steady states of the system.\n",
    "We can also see how the inducer reactions allow switching between the states. Imagine we are in the state where Repressor 1 is present and Repressor 2 is absent. The action of adding Inducer 1 hinders the repression of Repressor 2. This allows Repressor 2 proteins to build up eventually to the levels where Repressor 1 is completely suppressed. Thus the system moves into the state where Repressor 2 is present and Repressor 1 is absent. If the system is in this state then Inducer 2 can be used to perform the reverse switch.\n",
    "The final piece of the network is the reporter gene which in this case codes for a green fluorescent protein (GFP). This is downstream of Promoter 2 so that when Repressor 1 is expressed so is GFP. This fluorescence can be used to experimentally identify the state of the system within individual cells.\n",
    "\n",
    "$$\\begin{align}        \n",
    "            \\frac{ du }{dt} &= \\frac{\\alpha_1}{1 + v^{\\beta} } - u  \\tag{1} \\\\ \n",
    "            \\frac{ dv }{dt} &= \\frac{\\alpha_2}{1 + u^{\\gamma} } - v   \\tag{2}  \\\\\n",
    "\\end{align}\n",
    "$$\n"
   ]
  },
  {
   "cell_type": "code",
   "execution_count": null,
   "metadata": {},
   "outputs": [],
   "source": []
  },
  {
   "cell_type": "markdown",
   "metadata": {},
   "source": [
    "where $u,v$ represent the concentrations of the two proteins in the system (Repressor 1 and Repressor 2), $\\alpha_1 , \\alpha_2$ are the effective rates of synthesis of Repressor 1 and 2 respectively. $\\beta, \\gamma$ are the cooperativity of repression of Promoter 1 and Promoter 2 respectively, i.,e,  Repressor 1 $u$ multimerizes with γ subunits and repressor 2 $v$ forms multimeres of β monomers. The form of these equations should be familiar from Gene Expression 1 and Gene Expression 2. Essentially for each protein we have a production term and a decay termThis is an input-output model., with the production terms modelled via two Hill functions which take into account the repression by the other protein, $u \\dashv v$ and $v \\dashv u$."
   ]
  },
  {
   "cell_type": "code",
   "execution_count": 20,
   "metadata": {},
   "outputs": [],
   "source": [
    "using DifferentialEquations\n",
    "using Plots; gr();"
   ]
  },
  {
   "cell_type": "code",
   "execution_count": 16,
   "metadata": {},
   "outputs": [],
   "source": [
    "tspan = (0,10)\n",
    "α_1 = 10.0;\n",
    "α_2 = 9.0;\n",
    "β = 2.0;\n",
    "γ = 2.1;\n",
    "u0=[2,0.01] # it fails when u[1] and u[3] are similar\n",
    "p=[α_1,α_2,β,γ];"
   ]
  },
  {
   "cell_type": "code",
   "execution_count": 17,
   "metadata": {},
   "outputs": [
    {
     "data": {
      "text/plain": [
       "Toggleswitch1! (generic function with 1 method)"
      ]
     },
     "execution_count": 17,
     "metadata": {},
     "output_type": "execute_result"
    }
   ],
   "source": [
    "function Toggleswitch1!(du,u,p,t)\n",
    "    α_1,α_2,β,γ = p\n",
    "    du[1] = -u[1] + α_1/(1+(u[2]^β))\n",
    "    du[2] = -u[2] + α_2/(1+(u[1]^γ))\n",
    "end"
   ]
  },
  {
   "cell_type": "code",
   "execution_count": 18,
   "metadata": {},
   "outputs": [],
   "source": [
    "tspan = (0.0,15)\n",
    "α_1=10\n",
    "α_2=10\n",
    "β=2\n",
    "γ=2\n",
    "u0=[0.01,1] # it fails when u[1] or u[2] are zero\n",
    "p=[α_1,α_2,β,γ];"
   ]
  },
  {
   "cell_type": "code",
   "execution_count": 19,
   "metadata": {},
   "outputs": [
    {
     "ename": "ErrorException",
     "evalue": "error compiling _plot!: error compiling _display: could not load library \"libGR.so\"\ndlopen(libGR.so.dylib, 1): image not found",
     "output_type": "error",
     "traceback": [
      "error compiling _plot!: error compiling _display: could not load library \"libGR.so\"\ndlopen(libGR.so.dylib, 1): image not found",
      "",
      "Stacktrace:",
      " [1] #plot#132(::Base.Iterators.Pairs{Symbol,Array{String,1},Tuple{Symbol},NamedTuple{(:label,),Tuple{Array{String,1}}}}, ::Function, ::OrdinaryDiffEq.ODECompositeSolution{Float64,2,Array{Array{Float64,1},1},Nothing,Nothing,Array{Float64,1},Array{Array{Array{Float64,1},1},1},ODEProblem{Array{Float64,1},Tuple{Float64,Float64},true,Array{Int64,1},ODEFunction{true,typeof(Toggleswitch1!),LinearAlgebra.UniformScaling{Bool},Nothing,Nothing,Nothing,Nothing,Nothing,Nothing,Nothing,Nothing},Nothing,DiffEqBase.StandardODEProblem},CompositeAlgorithm{Tuple{Tsit5,Rosenbrock23{0,false,LinSolveFactorize{typeof(LinearAlgebra.lu!)},DataType}},AutoSwitch{Tsit5,Rosenbrock23{0,false,LinSolveFactorize{typeof(LinearAlgebra.lu!)},DataType},Rational{Int64},Float64}},OrdinaryDiffEq.CompositeInterpolationData{ODEFunction{true,typeof(Toggleswitch1!),LinearAlgebra.UniformScaling{Bool},Nothing,Nothing,Nothing,Nothing,Nothing,Nothing,Nothing,Nothing},Array{Array{Float64,1},1},Array{Float64,1},Array{Array{Array{Float64,1},1},1},OrdinaryDiffEq.CompositeCache{Tuple{OrdinaryDiffEq.Tsit5Cache{Array{Float64,1},Array{Float64,1},Array{Float64,1},OrdinaryDiffEq.Tsit5ConstantCache{Float64,Float64}},OrdinaryDiffEq.Rosenbrock23Cache{Array{Float64,1},Array{Float64,1},Array{Float64,2},Array{Float64,2},OrdinaryDiffEq.Rosenbrock23ConstantCache{Float64,typeof(identity),typeof(identity)},DiffEqDiffTools.TimeGradientWrapper{ODEFunction{true,typeof(Toggleswitch1!),LinearAlgebra.UniformScaling{Bool},Nothing,Nothing,Nothing,Nothing,Nothing,Nothing,Nothing,Nothing},Array{Float64,1},Array{Int64,1}},DiffEqDiffTools.UJacobianWrapper{ODEFunction{true,typeof(Toggleswitch1!),LinearAlgebra.UniformScaling{Bool},Nothing,Nothing,Nothing,Nothing,Nothing,Nothing,Nothing,Nothing},Float64,Array{Int64,1}},LinSolveFactorize{typeof(LinearAlgebra.lu!)},DiffEqDiffTools.JacobianCache{Array{Float64,1},Array{Float64,1},Array{Float64,1},Val{:central},Float64,Val{true}},DiffEqDiffTools.GradientCache{Nothing,Array{Float64,1},Array{Float64,1},Val{:central},Float64,Val{true}}}},AutoSwitch{Tsit5,Rosenbrock23{0,false,LinSolveFactorize{typeof(LinearAlgebra.lu!)},DataType},Rational{Int64},Float64}}}}) at /Users/david/.julia/packages/Plots/y6yik/src/plot.jl:57",
      " [2] (::getfield(RecipesBase, Symbol(\"#kw##plot\")))(::NamedTuple{(:label,),Tuple{Array{String,1}}}, ::typeof(plot), ::OrdinaryDiffEq.ODECompositeSolution{Float64,2,Array{Array{Float64,1},1},Nothing,Nothing,Array{Float64,1},Array{Array{Array{Float64,1},1},1},ODEProblem{Array{Float64,1},Tuple{Float64,Float64},true,Array{Int64,1},ODEFunction{true,typeof(Toggleswitch1!),LinearAlgebra.UniformScaling{Bool},Nothing,Nothing,Nothing,Nothing,Nothing,Nothing,Nothing,Nothing},Nothing,DiffEqBase.StandardODEProblem},CompositeAlgorithm{Tuple{Tsit5,Rosenbrock23{0,false,LinSolveFactorize{typeof(LinearAlgebra.lu!)},DataType}},AutoSwitch{Tsit5,Rosenbrock23{0,false,LinSolveFactorize{typeof(LinearAlgebra.lu!)},DataType},Rational{Int64},Float64}},OrdinaryDiffEq.CompositeInterpolationData{ODEFunction{true,typeof(Toggleswitch1!),LinearAlgebra.UniformScaling{Bool},Nothing,Nothing,Nothing,Nothing,Nothing,Nothing,Nothing,Nothing},Array{Array{Float64,1},1},Array{Float64,1},Array{Array{Array{Float64,1},1},1},OrdinaryDiffEq.CompositeCache{Tuple{OrdinaryDiffEq.Tsit5Cache{Array{Float64,1},Array{Float64,1},Array{Float64,1},OrdinaryDiffEq.Tsit5ConstantCache{Float64,Float64}},OrdinaryDiffEq.Rosenbrock23Cache{Array{Float64,1},Array{Float64,1},Array{Float64,2},Array{Float64,2},OrdinaryDiffEq.Rosenbrock23ConstantCache{Float64,typeof(identity),typeof(identity)},DiffEqDiffTools.TimeGradientWrapper{ODEFunction{true,typeof(Toggleswitch1!),LinearAlgebra.UniformScaling{Bool},Nothing,Nothing,Nothing,Nothing,Nothing,Nothing,Nothing,Nothing},Array{Float64,1},Array{Int64,1}},DiffEqDiffTools.UJacobianWrapper{ODEFunction{true,typeof(Toggleswitch1!),LinearAlgebra.UniformScaling{Bool},Nothing,Nothing,Nothing,Nothing,Nothing,Nothing,Nothing,Nothing},Float64,Array{Int64,1}},LinSolveFactorize{typeof(LinearAlgebra.lu!)},DiffEqDiffTools.JacobianCache{Array{Float64,1},Array{Float64,1},Array{Float64,1},Val{:central},Float64,Val{true}},DiffEqDiffTools.GradientCache{Nothing,Array{Float64,1},Array{Float64,1},Val{:central},Float64,Val{true}}}},AutoSwitch{Tsit5,Rosenbrock23{0,false,LinSolveFactorize{typeof(LinearAlgebra.lu!)},DataType},Rational{Int64},Float64}}}}) at ./none:0",
      " [3] top-level scope at In[19]:3"
     ]
    }
   ],
   "source": [
    "prob1 = ODEProblem(Toggleswitch1!,u0,tspan,p)\n",
    "sol1 = solve(prob1)\n",
    "plot(sol1,label=[\"u\",\"v\"])"
   ]
  },
  {
   "cell_type": "markdown",
   "metadata": {},
   "source": [
    "Here we see that the system reaches and equilibrium where $v =10$ and $u=0$, i.e., one of the genes is being transcribed and the other no. Interestingly, when we change the intial condition. "
   ]
  },
  {
   "cell_type": "code",
   "execution_count": 8,
   "metadata": {},
   "outputs": [
    {
     "ename": "ErrorException",
     "evalue": "error compiling _plot!: error compiling _display: could not load library \"libGR.so\"\ndlopen(libGR.so.dylib, 1): image not found",
     "output_type": "error",
     "traceback": [
      "error compiling _plot!: error compiling _display: could not load library \"libGR.so\"\ndlopen(libGR.so.dylib, 1): image not found",
      "",
      "Stacktrace:",
      " [1] #plot#132(::Base.Iterators.Pairs{Symbol,Array{String,1},Tuple{Symbol},NamedTuple{(:label,),Tuple{Array{String,1}}}}, ::Function, ::OrdinaryDiffEq.ODECompositeSolution{Float64,2,Array{Array{Float64,1},1},Nothing,Nothing,Array{Float64,1},Array{Array{Array{Float64,1},1},1},ODEProblem{Array{Float64,1},Tuple{Float64,Float64},true,Array{Int64,1},ODEFunction{true,typeof(Toggleswitch1!),LinearAlgebra.UniformScaling{Bool},Nothing,Nothing,Nothing,Nothing,Nothing,Nothing,Nothing,Nothing},Nothing,DiffEqBase.StandardODEProblem},CompositeAlgorithm{Tuple{Tsit5,Rosenbrock23{0,false,LinSolveFactorize{typeof(LinearAlgebra.lu!)},DataType}},AutoSwitch{Tsit5,Rosenbrock23{0,false,LinSolveFactorize{typeof(LinearAlgebra.lu!)},DataType},Rational{Int64},Float64}},OrdinaryDiffEq.CompositeInterpolationData{ODEFunction{true,typeof(Toggleswitch1!),LinearAlgebra.UniformScaling{Bool},Nothing,Nothing,Nothing,Nothing,Nothing,Nothing,Nothing,Nothing},Array{Array{Float64,1},1},Array{Float64,1},Array{Array{Array{Float64,1},1},1},OrdinaryDiffEq.CompositeCache{Tuple{OrdinaryDiffEq.Tsit5Cache{Array{Float64,1},Array{Float64,1},Array{Float64,1},OrdinaryDiffEq.Tsit5ConstantCache{Float64,Float64}},OrdinaryDiffEq.Rosenbrock23Cache{Array{Float64,1},Array{Float64,1},Array{Float64,2},Array{Float64,2},OrdinaryDiffEq.Rosenbrock23ConstantCache{Float64,typeof(identity),typeof(identity)},DiffEqDiffTools.TimeGradientWrapper{ODEFunction{true,typeof(Toggleswitch1!),LinearAlgebra.UniformScaling{Bool},Nothing,Nothing,Nothing,Nothing,Nothing,Nothing,Nothing,Nothing},Array{Float64,1},Array{Int64,1}},DiffEqDiffTools.UJacobianWrapper{ODEFunction{true,typeof(Toggleswitch1!),LinearAlgebra.UniformScaling{Bool},Nothing,Nothing,Nothing,Nothing,Nothing,Nothing,Nothing,Nothing},Float64,Array{Int64,1}},LinSolveFactorize{typeof(LinearAlgebra.lu!)},DiffEqDiffTools.JacobianCache{Array{Float64,1},Array{Float64,1},Array{Float64,1},Val{:central},Float64,Val{true}},DiffEqDiffTools.GradientCache{Nothing,Array{Float64,1},Array{Float64,1},Val{:central},Float64,Val{true}}}},AutoSwitch{Tsit5,Rosenbrock23{0,false,LinSolveFactorize{typeof(LinearAlgebra.lu!)},DataType},Rational{Int64},Float64}}}}) at /Users/david/.julia/packages/Plots/y6yik/src/plot.jl:57",
      " [2] (::getfield(RecipesBase, Symbol(\"#kw##plot\")))(::NamedTuple{(:label,),Tuple{Array{String,1}}}, ::typeof(plot), ::OrdinaryDiffEq.ODECompositeSolution{Float64,2,Array{Array{Float64,1},1},Nothing,Nothing,Array{Float64,1},Array{Array{Array{Float64,1},1},1},ODEProblem{Array{Float64,1},Tuple{Float64,Float64},true,Array{Int64,1},ODEFunction{true,typeof(Toggleswitch1!),LinearAlgebra.UniformScaling{Bool},Nothing,Nothing,Nothing,Nothing,Nothing,Nothing,Nothing,Nothing},Nothing,DiffEqBase.StandardODEProblem},CompositeAlgorithm{Tuple{Tsit5,Rosenbrock23{0,false,LinSolveFactorize{typeof(LinearAlgebra.lu!)},DataType}},AutoSwitch{Tsit5,Rosenbrock23{0,false,LinSolveFactorize{typeof(LinearAlgebra.lu!)},DataType},Rational{Int64},Float64}},OrdinaryDiffEq.CompositeInterpolationData{ODEFunction{true,typeof(Toggleswitch1!),LinearAlgebra.UniformScaling{Bool},Nothing,Nothing,Nothing,Nothing,Nothing,Nothing,Nothing,Nothing},Array{Array{Float64,1},1},Array{Float64,1},Array{Array{Array{Float64,1},1},1},OrdinaryDiffEq.CompositeCache{Tuple{OrdinaryDiffEq.Tsit5Cache{Array{Float64,1},Array{Float64,1},Array{Float64,1},OrdinaryDiffEq.Tsit5ConstantCache{Float64,Float64}},OrdinaryDiffEq.Rosenbrock23Cache{Array{Float64,1},Array{Float64,1},Array{Float64,2},Array{Float64,2},OrdinaryDiffEq.Rosenbrock23ConstantCache{Float64,typeof(identity),typeof(identity)},DiffEqDiffTools.TimeGradientWrapper{ODEFunction{true,typeof(Toggleswitch1!),LinearAlgebra.UniformScaling{Bool},Nothing,Nothing,Nothing,Nothing,Nothing,Nothing,Nothing,Nothing},Array{Float64,1},Array{Int64,1}},DiffEqDiffTools.UJacobianWrapper{ODEFunction{true,typeof(Toggleswitch1!),LinearAlgebra.UniformScaling{Bool},Nothing,Nothing,Nothing,Nothing,Nothing,Nothing,Nothing,Nothing},Float64,Array{Int64,1}},LinSolveFactorize{typeof(LinearAlgebra.lu!)},DiffEqDiffTools.JacobianCache{Array{Float64,1},Array{Float64,1},Array{Float64,1},Val{:central},Float64,Val{true}},DiffEqDiffTools.GradientCache{Nothing,Array{Float64,1},Array{Float64,1},Val{:central},Float64,Val{true}}}},AutoSwitch{Tsit5,Rosenbrock23{0,false,LinSolveFactorize{typeof(LinearAlgebra.lu!)},DataType},Rational{Int64},Float64}}}}) at ./none:0",
      " [3] top-level scope at In[8]:4"
     ]
    }
   ],
   "source": [
    "u0=[2,0.9] # it fails when u[1] or u[2] are zero\n",
    "prob2 = ODEProblem(Toggleswitch1!,u0,tspan,p)\n",
    "sol2 = solve(prob2)\n",
    "plot(sol2,label=[\"u\",\"v\"])"
   ]
  },
  {
   "cell_type": "markdown",
   "metadata": {},
   "source": [
    "Now we see that th other variable $u =10$ while $u=0$. So, the state of activation of the system depends on the initial condition. This is a hallmark of a bistable regime: a region in the parameters space where two different solutions are stable, and the system evolves towards one or the other depending on the initial conditions."
   ]
  },
  {
   "cell_type": "markdown",
   "metadata": {},
   "source": [
    "We can do the same using the DLS notation, that is simple to read and to manipulate"
   ]
  },
  {
   "cell_type": "code",
   "execution_count": 9,
   "metadata": {},
   "outputs": [
    {
     "data": {
      "text/plain": [
       "(::ab{getfield(Main, Symbol(\"##3#7\")),getfield(Main, Symbol(\"##4#8\")),getfield(Main, Symbol(\"##5#9\")),Nothing,Nothing,getfield(Main, Symbol(\"##6#10\")),Expr,Expr}) (generic function with 2 methods)"
      ]
     },
     "execution_count": 9,
     "metadata": {},
     "output_type": "execute_result"
    }
   ],
   "source": [
    "Toggleswitch3! = @ode_def ab begin\n",
    "    du = -u + α_1/(1+(v^β))\n",
    "    dv = -v + α_2/(1+(u^γ))\n",
    "    end α_1 α_2 β γ"
   ]
  },
  {
   "cell_type": "code",
   "execution_count": 10,
   "metadata": {},
   "outputs": [
    {
     "ename": "ErrorException",
     "evalue": "error compiling _plot!: error compiling _display: could not load library \"libGR.so\"\ndlopen(libGR.so.dylib, 1): image not found",
     "output_type": "error",
     "traceback": [
      "error compiling _plot!: error compiling _display: could not load library \"libGR.so\"\ndlopen(libGR.so.dylib, 1): image not found",
      "",
      "Stacktrace:",
      " [1] #plot#132(::Base.Iterators.Pairs{Symbol,Array{String,1},Tuple{Symbol},NamedTuple{(:label,),Tuple{Array{String,1}}}}, ::Function, ::OrdinaryDiffEq.ODECompositeSolution{Float64,2,Array{Array{Float64,1},1},Nothing,Nothing,Array{Float64,1},Array{Array{Array{Float64,1},1},1},ODEProblem{Array{Float64,1},Tuple{Float64,Float64},true,Array{Int64,1},ab{getfield(Main, Symbol(\"##3#7\")),getfield(Main, Symbol(\"##4#8\")),getfield(Main, Symbol(\"##5#9\")),Nothing,Nothing,getfield(Main, Symbol(\"##6#10\")),Expr,Expr},Nothing,DiffEqBase.StandardODEProblem},CompositeAlgorithm{Tuple{Tsit5,Rosenbrock23{0,false,LinSolveFactorize{typeof(LinearAlgebra.lu!)},DataType}},AutoSwitch{Tsit5,Rosenbrock23{0,false,LinSolveFactorize{typeof(LinearAlgebra.lu!)},DataType},Rational{Int64},Float64}},OrdinaryDiffEq.CompositeInterpolationData{ab{getfield(Main, Symbol(\"##3#7\")),getfield(Main, Symbol(\"##4#8\")),getfield(Main, Symbol(\"##5#9\")),Nothing,Nothing,getfield(Main, Symbol(\"##6#10\")),Expr,Expr},Array{Array{Float64,1},1},Array{Float64,1},Array{Array{Array{Float64,1},1},1},OrdinaryDiffEq.CompositeCache{Tuple{OrdinaryDiffEq.Tsit5Cache{Array{Float64,1},Array{Float64,1},Array{Float64,1},OrdinaryDiffEq.Tsit5ConstantCache{Float64,Float64}},OrdinaryDiffEq.Rosenbrock23Cache{Array{Float64,1},Array{Float64,1},Array{Float64,2},Array{Float64,2},OrdinaryDiffEq.Rosenbrock23ConstantCache{Float64,typeof(identity),typeof(identity)},DiffEqDiffTools.TimeGradientWrapper{ab{getfield(Main, Symbol(\"##3#7\")),getfield(Main, Symbol(\"##4#8\")),getfield(Main, Symbol(\"##5#9\")),Nothing,Nothing,getfield(Main, Symbol(\"##6#10\")),Expr,Expr},Array{Float64,1},Array{Int64,1}},DiffEqDiffTools.UJacobianWrapper{ab{getfield(Main, Symbol(\"##3#7\")),getfield(Main, Symbol(\"##4#8\")),getfield(Main, Symbol(\"##5#9\")),Nothing,Nothing,getfield(Main, Symbol(\"##6#10\")),Expr,Expr},Float64,Array{Int64,1}},LinSolveFactorize{typeof(LinearAlgebra.lu!)},Nothing,Nothing}},AutoSwitch{Tsit5,Rosenbrock23{0,false,LinSolveFactorize{typeof(LinearAlgebra.lu!)},DataType},Rational{Int64},Float64}}}}) at /Users/david/.julia/packages/Plots/y6yik/src/plot.jl:57",
      " [2] (::getfield(RecipesBase, Symbol(\"#kw##plot\")))(::NamedTuple{(:label,),Tuple{Array{String,1}}}, ::typeof(plot), ::OrdinaryDiffEq.ODECompositeSolution{Float64,2,Array{Array{Float64,1},1},Nothing,Nothing,Array{Float64,1},Array{Array{Array{Float64,1},1},1},ODEProblem{Array{Float64,1},Tuple{Float64,Float64},true,Array{Int64,1},ab{getfield(Main, Symbol(\"##3#7\")),getfield(Main, Symbol(\"##4#8\")),getfield(Main, Symbol(\"##5#9\")),Nothing,Nothing,getfield(Main, Symbol(\"##6#10\")),Expr,Expr},Nothing,DiffEqBase.StandardODEProblem},CompositeAlgorithm{Tuple{Tsit5,Rosenbrock23{0,false,LinSolveFactorize{typeof(LinearAlgebra.lu!)},DataType}},AutoSwitch{Tsit5,Rosenbrock23{0,false,LinSolveFactorize{typeof(LinearAlgebra.lu!)},DataType},Rational{Int64},Float64}},OrdinaryDiffEq.CompositeInterpolationData{ab{getfield(Main, Symbol(\"##3#7\")),getfield(Main, Symbol(\"##4#8\")),getfield(Main, Symbol(\"##5#9\")),Nothing,Nothing,getfield(Main, Symbol(\"##6#10\")),Expr,Expr},Array{Array{Float64,1},1},Array{Float64,1},Array{Array{Array{Float64,1},1},1},OrdinaryDiffEq.CompositeCache{Tuple{OrdinaryDiffEq.Tsit5Cache{Array{Float64,1},Array{Float64,1},Array{Float64,1},OrdinaryDiffEq.Tsit5ConstantCache{Float64,Float64}},OrdinaryDiffEq.Rosenbrock23Cache{Array{Float64,1},Array{Float64,1},Array{Float64,2},Array{Float64,2},OrdinaryDiffEq.Rosenbrock23ConstantCache{Float64,typeof(identity),typeof(identity)},DiffEqDiffTools.TimeGradientWrapper{ab{getfield(Main, Symbol(\"##3#7\")),getfield(Main, Symbol(\"##4#8\")),getfield(Main, Symbol(\"##5#9\")),Nothing,Nothing,getfield(Main, Symbol(\"##6#10\")),Expr,Expr},Array{Float64,1},Array{Int64,1}},DiffEqDiffTools.UJacobianWrapper{ab{getfield(Main, Symbol(\"##3#7\")),getfield(Main, Symbol(\"##4#8\")),getfield(Main, Symbol(\"##5#9\")),Nothing,Nothing,getfield(Main, Symbol(\"##6#10\")),Expr,Expr},Float64,Array{Int64,1}},LinSolveFactorize{typeof(LinearAlgebra.lu!)},Nothing,Nothing}},AutoSwitch{Tsit5,Rosenbrock23{0,false,LinSolveFactorize{typeof(LinearAlgebra.lu!)},DataType},Rational{Int64},Float64}}}}) at ./none:0",
      " [3] top-level scope at In[10]:4"
     ]
    }
   ],
   "source": [
    "u0=[2,0.9] # it fails when u[1] or u[2] are zero\n",
    "prob3 = ODEProblem(Toggleswitch3!,u0,tspan,p)\n",
    "sol3 = solve(prob3)\n",
    "plot(sol3,label=[\"u\",\"v\"])"
   ]
  },
  {
   "cell_type": "markdown",
   "metadata": {},
   "source": [
    "## Stability analysis of the Toggle switch\n",
    "\n",
    "First,we will calculate and plot the Null-clines from Eqs 1-2 as\n",
    "\n",
    "$$\\begin{align}        \n",
    "            u &= \\frac{\\alpha_1}{1 + v^{\\beta} }  \\tag{3} \\\\ \n",
    "            v &= \\frac{\\alpha_2}{1 + u^{\\gamma} }  \\tag{4}  \\\\\n",
    "\\end{align}\n",
    "$$\n",
    "\n",
    "Soving Eq. 4 for u, \n",
    "\n",
    "$$\\begin{align}        \n",
    "            1 + u^{\\gamma} &= \\frac{\\alpha_2}{v }  \\notag  \\\\\n",
    "            u^{\\gamma} &= \\frac{\\alpha_2}{v }-1  \\notag  \\\\\n",
    "            u^{\\gamma} &= \\frac{\\alpha_2 -v}{v }  \\notag  \\\\\n",
    "            u &= (\\frac{\\alpha_2 -v}{v })^{1/\\gamma} \\tag{5}  \\\\\n",
    "\\end{align}\n",
    "$$"
   ]
  },
  {
   "cell_type": "code",
   "execution_count": 11,
   "metadata": {},
   "outputs": [
    {
     "ename": "ErrorException",
     "evalue": "error compiling _plot!: error compiling _display: could not load library \"libGR.so\"\ndlopen(libGR.so.dylib, 1): image not found",
     "output_type": "error",
     "traceback": [
      "error compiling _plot!: error compiling _display: could not load library \"libGR.so\"\ndlopen(libGR.so.dylib, 1): image not found",
      "",
      "Stacktrace:",
      " [1] #plot#132(::Base.Iterators.Pairs{Symbol,Array{String,1},Tuple{Symbol},NamedTuple{(:label,),Tuple{Array{String,1}}}}, ::Function, ::LinRange{Float64}, ::Vararg{Any,N} where N) at /Users/david/.julia/packages/Plots/y6yik/src/plot.jl:57",
      " [2] (::getfield(RecipesBase, Symbol(\"#kw##plot\")))(::NamedTuple{(:label,),Tuple{Array{String,1}}}, ::typeof(plot), ::LinRange{Float64}, ::Array{Array{Float64,1},1}) at ./none:0",
      " [3] top-level scope at In[11]:9"
     ]
    }
   ],
   "source": [
    "u0=[10,9.999]\n",
    "α_1=10\n",
    "α_2=10\n",
    "β=2\n",
    "γ=2\n",
    "v_vector = LinRange(0,u0[2],100)\n",
    "u_nullcline= α_1 ./ (v_vector.^β .+1)\n",
    "v_nullcline= ((α_2 .- v_vector) ./ v_vector).^(1/γ)\n",
    "plot(v_vector,[u_nullcline,v_nullcline],label=[\"Nullcline u\",\"Nullcline v\"])"
   ]
  },
  {
   "cell_type": "markdown",
   "metadata": {},
   "source": [
    "## Short Reminder of stability analysis of nonlinear systems\n",
    "\n",
    "### Stability in linear systems\n",
    "\n",
    "Next,  we will analize the stabilty of the system. As a reminder, any given system of linear differential equations can be written as:\n",
    "\n",
    "$$\n",
    "\\frac{d\\vec{x}}{dt}= A \\vec{x} \\tag{1}\n",
    "$$\n",
    "\n",
    "where $\\vec{x}$ represents a point in the phase plane and $\\frac{ d \\vec{x} }{dt} $ ̇ represents the velocity vector at that point. The fixed points, $\\vec{x}^∗$, for this system are the points that satisfy $A \\vec{x}^∗ = 0$, meaning that all time derivatives are zero. The fixed points represent the steady state of the system.\n",
    "\n",
    "In the case of just two dimensions we have:\n",
    "$$\n",
    "\\binom{\\dot{u}}{\\dot{v}}=\\begin{pmatrix}\n",
    " a&b \\\\ \n",
    " c&d \n",
    "\\end{pmatrix}\\binom{u}{v}\n",
    "$$\n",
    "\n",
    "which is equivalent to write\n",
    "\n",
    "$$\\begin{align}        \n",
    "            \\frac{ du }{dt} &= a u + b v  \\notag \\\\ \n",
    "            \\frac{ dv }{dt} &= c u + d v      \\\\\n",
    "\\end{align}\n",
    "$$\n",
    "\n",
    "### Stability in nonlinear systems\n",
    "\n",
    "On the other hand, any nonlinear system of equations can be expressed in general as :\n",
    "\n",
    "$$\n",
    "\\begin{align}        \n",
    "           \\frac{ d \\vec{x} }{dt} &= f(\\vec{x})  \\tag{5} \\\\ \n",
    "\\end{align}\n",
    "$$\n",
    "where $\\vec{x} = (x_1,x_2,...x_n)$, and $f(\\vec{x}) = (f_1(\\vec{x}),f_2(\\vec{x})...f_n(\\vec{x}))$. Again, the fixed points, $\\vec{x}^∗$  are the points that satisfy $f(\\vec{x}^∗) = 0$, meaning that all time derivatives are zero.\n",
    "\n",
    "In the case of two dimensions, we write:\n",
    "\n",
    "$$\\begin{align}        \n",
    "           \\frac{ du }{dt} &= f(u,v)  \\tag{5} \\\\ \n",
    "            \\frac{ dv }{dt} &= g(u,v)  \\tag{6}  \\\\\n",
    "\\end{align}\n",
    "$$\n",
    "\n",
    "To analyze the stability of the system, we have to be able to write the system of nonlinear equations in linear form (i.e., similar to Eq. 1). Therefore, we have to linearize our nonlinear set of equations aroudn the stady state of the system. This is done as follows:\n",
    "\n",
    "$$\n",
    "\\binom{\\dot{u}}{\\dot{v}}=\\begin{pmatrix}\n",
    " a&b \\\\ \n",
    " c&d \n",
    "\\end{pmatrix}\\binom{u}{v}=\\begin{pmatrix}\n",
    "  \\frac{ df }{du}& \\frac{ d f }{dv} \\\\ \n",
    "  \\frac{ dg }{du}& \\frac{ dg }{dv} \n",
    "\\end{pmatrix}\\binom{u}{v}\n",
    "$$\n",
    "\n",
    "This matrix is called the Jacobian matrix. This matrix can be used to classify the nature of the fixed points either in linear or nonlinear systems of equations. The dynamics of the system around the fixed points is characterized by the value of the Trace $Tr(A)$ and the determinant $Det(A)$ of the Jacobian matrix.\n",
    "\n",
    "For a linear system the point $\\vec{x}^*$ = 0 will always be a fixed point. These fixed points can have different behaviours as; nodes, spirals, centers, stars, non-isolated fixed points, saddle points or degenerate nodes. To clasify a fixed point, we have to look at the trace and teh determinato of the linearize matrix $A$:\n",
    "$$\n",
    "\\begin{align} \n",
    "Tr(A) &=a+d \\\\\n",
    "det(A) &= ad − bc\n",
    "\\end{align}\n",
    "$$\n",
    "\n",
    "Let’s try to find a solution of the convenient form in the form of eigenvectors and eigenvalues. \n",
    "$$\n",
    "\\binom{\\dot{u}}{\\dot{v}}=\\begin{pmatrix}\n",
    " \\lambda_1&0 \\\\ \n",
    " 0&\\lambda_2 \n",
    "\\end{pmatrix}\\binom{u}{v}\n",
    "$$\n",
    "\n",
    "To calculate teh eigen vectors, we perform the following computation:\n",
    "$$\n",
    "det(A-\\lambda I)=det\\begin{pmatrix}\n",
    " a-\\lambda&b \\\\ \n",
    " c&d- \\lambda\n",
    "\\end{pmatrix}=0\n",
    "$$\n",
    "the Trace and the deteriminat of the lienarized matrix takes the simple form:\n",
    "$$\n",
    "\\begin{align} \n",
    "Tr(A) &=\\lambda_1+\\lambda_2 \\\\\n",
    "det(A) &= \\lambda_1 \\lambda_2\n",
    "\\end{align}\n",
    "$$\n",
    "\n",
    "the rule for a fixed point to be stable is that $Tr A < 0$ and $Det A > 0$, which is equivalent to say that the real part of all eigenvalues Re($\\lambda$) are lower than zero. In addition, if the eigenvalues are real, trajectories are direct\n",
    "if the complex, the trajectory will be a spiral. \n",
    "\n",
    "\n",
    "\n"
   ]
  },
  {
   "cell_type": "markdown",
   "metadata": {},
   "source": [
    "## Stability analysis of the Toggle switch \n",
    "\n",
    "So, based on the theory of stability of nonlinear systems of equations, we write the Jacobiona Matrix of the system of diferential equations corresponding to the Toggle switch model as:\n",
    "$$\n",
    "A=\\begin{pmatrix}\n",
    " -1 & -\\frac{\\alpha_1 \\beta v^{\\beta-1}}{(1 + v^{\\beta})^2 } \\\\ \n",
    " -\\frac{\\alpha_2 \\gamma u^{\\gamma-1}}{(1 + u^{\\gamma})^2 }&-1 \\end{pmatrix}\n",
    "$$\n",
    "\n",
    "The trace of the Jacobian is always negative. Therefore, the steady state solutions will be stable if the determinant of the Jacobian matrix is larger than zero $Det A > 0$. By solving the determinant we will find the conditions (i.e., the values of the parameters) that set teh stady states as stable or inestable. This would also define the boundary in parameter space that separates the bistable from monostable region. \n",
    "\n",
    "if we solve $Det(A)=0$, we obtain the following expression:\n",
    "$$\n",
    "\\frac{\\alpha_1 \\beta v^{\\beta-1}}{(1 + v^{\\beta})^2 }\\frac{\\alpha_2 \\gamma u^{\\gamma-1}}{(1 + u^{\\gamma})^2 }=1\n",
    "$$\n"
   ]
  },
  {
   "cell_type": "code",
   "execution_count": 12,
   "metadata": {},
   "outputs": [
    {
     "name": "stdout",
     "output_type": "stream",
     "text": [
      "\u001b[32m\u001b[1m  Updating\u001b[22m\u001b[39m registry at `~/.julia/registries/General`\n",
      "\u001b[32m\u001b[1m  Updating\u001b[22m\u001b[39m git-repo `https://github.com/JuliaRegistries/General.git`\n",
      "\u001b[2K\u001b[?25h\u001b[32m\u001b[1m Resolving\u001b[22m\u001b[39m package versions...\n",
      "\u001b[32m\u001b[1m Installed\u001b[22m\u001b[39m Missings ──────────── v0.4.0\n",
      "\u001b[32m\u001b[1m Installed\u001b[22m\u001b[39m PoissonRandom ─────── v0.4.0\n",
      "\u001b[32m\u001b[1m Installed\u001b[22m\u001b[39m RecursiveArrayTools ─ v0.18.6\n",
      "\u001b[32m\u001b[1m Installed\u001b[22m\u001b[39m DiffEqCallbacks ───── v2.5.2\n",
      "\u001b[32m\u001b[1m Installed\u001b[22m\u001b[39m DelayDiffEq ───────── v4.7.1\n",
      "\u001b[32m\u001b[1m Installed\u001b[22m\u001b[39m ForwardDiff ───────── v0.10.2\n",
      "\u001b[32m\u001b[1m Installed\u001b[22m\u001b[39m StochasticDiffEq ──── v5.11.1\n",
      "\u001b[32m\u001b[1m Installed\u001b[22m\u001b[39m OrdinaryDiffEq ────── v4.21.0\n",
      "\u001b[32m\u001b[1m  Updating\u001b[22m\u001b[39m `~/.julia/environments/v1.0/Project.toml`\n",
      "\u001b[90m [no changes]\u001b[39m\n",
      "\u001b[32m\u001b[1m  Updating\u001b[22m\u001b[39m `~/.julia/environments/v1.0/Manifest.toml`\n",
      " \u001b[90m [bcd4f6db]\u001b[39m\u001b[93m ↑ DelayDiffEq v4.7.0 ⇒ v4.7.1\u001b[39m\n",
      " \u001b[90m [459566f4]\u001b[39m\u001b[93m ↑ DiffEqCallbacks v2.5.0 ⇒ v2.5.2\u001b[39m\n",
      " \u001b[90m [f6369f11]\u001b[39m\u001b[93m ↑ ForwardDiff v0.10.1 ⇒ v0.10.2\u001b[39m\n",
      " \u001b[90m [e1d29d7a]\u001b[39m\u001b[93m ↑ Missings v0.3.1 ⇒ v0.4.0\u001b[39m\n",
      " \u001b[90m [1dea7af3]\u001b[39m\u001b[93m ↑ OrdinaryDiffEq v4.19.0 ⇒ v4.21.0\u001b[39m\n",
      " \u001b[90m [e409e4f3]\u001b[39m\u001b[93m ↑ PoissonRandom v0.3.1 ⇒ v0.4.0\u001b[39m\n",
      " \u001b[90m [731186ca]\u001b[39m\u001b[93m ↑ RecursiveArrayTools v0.18.5 ⇒ v0.18.6\u001b[39m\n",
      " \u001b[90m [789caeaf]\u001b[39m\u001b[93m ↑ StochasticDiffEq v5.11.0 ⇒ v5.11.1\u001b[39m\n"
     ]
    }
   ],
   "source": [
    "using Pkg\n",
    "Pkg.add(\"Interact\")"
   ]
  },
  {
   "cell_type": "code",
   "execution_count": null,
   "metadata": {},
   "outputs": [],
   "source": []
  },
  {
   "cell_type": "code",
   "execution_count": 13,
   "metadata": {},
   "outputs": [
    {
     "data": {
      "text/plain": [
       "(::abetterway{getfield(Main, Symbol(\"##11#15\")),getfield(Main, Symbol(\"##12#16\")),getfield(Main, Symbol(\"##13#17\")),Nothing,Nothing,getfield(Main, Symbol(\"##14#18\")),Expr,Expr}) (generic function with 2 methods)"
      ]
     },
     "execution_count": 13,
     "metadata": {},
     "output_type": "execute_result"
    }
   ],
   "source": [
    "Central_dogma1! = @ode_def abetterway begin\n",
    "  dM = k_M * T * D   - γ_M * M\n",
    "    end k_M T D γ_M"
   ]
  },
  {
   "cell_type": "code",
   "execution_count": null,
   "metadata": {},
   "outputs": [],
   "source": []
  }
 ],
 "metadata": {
  "kernelspec": {
   "display_name": "Julia 1.0.2",
   "language": "julia",
   "name": "julia-1.0"
  },
  "language_info": {
   "file_extension": ".jl",
   "mimetype": "application/julia",
   "name": "julia",
   "version": "1.0.2"
  }
 },
 "nbformat": 4,
 "nbformat_minor": 2
}
